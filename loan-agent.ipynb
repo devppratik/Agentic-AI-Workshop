{
 "cells": [
  {
   "cell_type": "markdown",
   "id": "0",
   "metadata": {},
   "source": [
    "\n",
    "# Loan Risk AI Agent\n",
    "\n",
    "This Python Notebook provides the code to create a simple AI agent for risk and interest rate evaluation in a bank loan processing scenario. Once created, you assume the persona of a loan risk analyst at a bank and ask the Loan Risk AI Agent questions in natural language to assess risks for customers. \n",
    "\n",
    "When a question is asked, the AI agent will use a LLM to understand the context, determine the seqence of steps, and then complete the steps utilizing availble tools. The tools fetch customer information, credit score, account status and determine risk and interest rate. The sequence of steps, tool calling and final response can be reviewed in the output.\n",
    "\n",
    "Part 1 involves creating a simple AI agent that can answer questions about loan risk and interest rate. Part 2 involves adding a new tool to calculate interest rate."
   ]
  },
  {
   "cell_type": "markdown",
   "id": "1",
   "metadata": {},
   "source": [
    "#### To use this Notebook:\n",
    "\n",
    "- Run each cell below one by one and make sure it completes successfully.\n",
    "- You may run/repeat the query cells by entering and trying different queries."
   ]
  },
  {
   "cell_type": "markdown",
   "id": "2",
   "metadata": {},
   "source": [
    "### Part 1"
   ]
  },
  {
   "cell_type": "markdown",
   "id": "3",
   "metadata": {},
   "source": [
    "#### 1. Set up required libraries"
   ]
  },
  {
   "cell_type": "code",
   "execution_count": null,
   "id": "4",
   "metadata": {},
   "outputs": [],
   "source": [
    "# Set up libraries\n",
    "%pip install langgraph\n",
    "%pip install ollama langchain langchain_core\n",
    "%pip install langchain-ollama"
   ]
  },
  {
   "cell_type": "markdown",
   "id": "5",
   "metadata": {},
   "source": [
    "### Import Required Libraries"
   ]
  },
  {
   "cell_type": "code",
   "execution_count": null,
   "id": "6",
   "metadata": {},
   "outputs": [],
   "source": [
    "from langchain.agents import initialize_agent, Tool\n",
    "from langchain.agents.agent_types import AgentType\n",
    "from langchain.llms import Ollama\n",
    "import random"
   ]
  },
  {
   "cell_type": "markdown",
   "id": "7",
   "metadata": {},
   "source": [
    "### Define tools that the AI agent can use"
   ]
  },
  {
   "cell_type": "code",
   "execution_count": null,
   "id": "8",
   "metadata": {},
   "outputs": [],
   "source": [
    "# Define tools that the AI agent can use\n",
    "\n",
    "# The tool get_customer_info() simulates/mocks API call that fetches credit score and account status information about a customer\n",
    "# The tools get_credit_score() and get_account_status() use the customer info tool to get the score and account status\n",
    "# The customer's loan risk is determined based on credit score and account status risk rules using get_overall_risk() tool. Since we are limited with how many inputs each tool can take, we use the determine_loan_risk() tool to determine the overall risk.\n",
    "# When a natural language question is asked, the AI agent first determines the context and then the sequence to utilize one or more tools to provide a response \n",
    "\n",
    "# this tool simulates an API call that will fetch information about customers\n",
    "\n",
    "# Tool 1: Fetch customer info\n",
    "def get_customer_info(customer_id: str): \n",
    "    \"\"\"Retrieve customer information based on the customer_id.\"\"\"\n",
    "    return {'credit_score': random.randint(300, 850), 'account_status': random.choice(['bad', 'good', 'closed'])}\n",
    "\n",
    "# Tool 2: Get credit score\n",
    "def get_credit_score(customer_id: str) -> int: \n",
    "    \"\"\"Get the credit score for the customer using customer_id. Customer's name can be used instead of customer_id.\"\"\"\n",
    "    customer_info = get_customer_info(customer_id)\n",
    "    return customer_info['credit_score']\n",
    "\n",
    "# Tool 3: Get account status\n",
    "def get_account_status(customer_id: str) -> str: \n",
    "    \"\"\"Get the account status for the customer using customer_id. Customer's name can be used instead of customer_id.\"\"\"\n",
    "    customer_info = get_customer_info(customer_id)\n",
    "    return customer_info['account_status']\n",
    "\n",
    "# Tool 4: Get overall risk based on credit score and account status\n",
    "def get_overall_risk(credit_score: int, account_status: str) -> str:\n",
    "    \"\"\"Get overall risk based on combination of both credit score and account status. Only use high, medium or low as risk categories. Explain how the overall risk was calculated. If the credit score and account status are unknown then do not provide the risk status and first retrieve the missing credit score or account status.\"\"\"\n",
    "\n",
    "    if (300 <= credit_score < 675): \n",
    "        if account_status in ['bad', 'closed']:\n",
    "            return \"high\"\n",
    "        elif account_status == 'good':\n",
    "            return \"medium\"\n",
    "\n",
    "    elif (675 <= credit_score < 750): \n",
    "        if account_status == 'bad':\n",
    "            return \"high\"\n",
    "        elif account_status == 'closed':\n",
    "            return \"medium\"\n",
    "        elif account_status == 'good':\n",
    "            return \"medium\"\n",
    "\n",
    "    elif (750 <= credit_score <= 850): \n",
    "        if account_status == 'bad':\n",
    "            return \"high\"\n",
    "        elif account_status == 'closed':\n",
    "            return \"low\"\n",
    "        elif account_status == 'good':\n",
    "            return \"low\"\n",
    "\n",
    "    return \"unable to determine\"\n",
    "\n",
    "# Tool 5 - Wrapper tool for LangChain that accepts a single string and parses it\n",
    "def determine_loan_risk(input_str: str) -> str:\n",
    "    \"\"\"\n",
    "    Takes input like 'credit_score=720, account_status=good' and returns loan risk.\n",
    "    Accepts the string even with surrounding quotes.\n",
    "    \"\"\"\n",
    "    try:\n",
    "        # Strip outer quotes if any\n",
    "        input_str = input_str.strip(\"'\").strip('\"')\n",
    "\n",
    "        # Parse key=value pairs\n",
    "        parts = dict(part.strip().split('=') for part in input_str.split(','))\n",
    "        credit_score = int(parts['credit_score'].strip())\n",
    "        account_status = parts['account_status'].strip().lower()\n",
    "\n",
    "        # Risk logic\n",
    "        if 300 <= credit_score < 675:\n",
    "            return \"high\" if account_status in ['bad', 'closed'] else \"medium\"\n",
    "        elif 675 <= credit_score < 750:\n",
    "            return \"high\" if account_status == 'bad' else \"medium\"\n",
    "        elif 750 <= credit_score <= 850:\n",
    "            return \"high\" if account_status == 'bad' else \"low\"\n",
    "\n",
    "        return \"unable to determine\"\n",
    "\n",
    "    except Exception as e:\n",
    "        return f\"Error parsing input: {e}\"\n",
    "    \n",
    "# Add all the tools and add descriptions about their uses\n",
    "tools = [\n",
    "    Tool(\n",
    "        name=\"Get Credit Score\",\n",
    "        func=get_credit_score,\n",
    "        description=(\n",
    "            \"Retrieve the credit score of a customer using their customer ID or name. \"\n",
    "                    )\n",
    "    ),\n",
    "    Tool(\n",
    "        name=\"Get Account Status\",\n",
    "        func=get_account_status,\n",
    "        description=(\n",
    "            \"Retrieve the current account status of a customer using their customer ID or name. \"\n",
    "            \"Possible statuses include: 'good', 'bad', or 'closed'.\"\n",
    "        )\n",
    "    ),\n",
    "    Tool(\n",
    "        name=\"Get Customer Info\",\n",
    "        func=get_customer_info,\n",
    "        description=(\n",
    "            \"Retrieve both the credit score and account status for a customer using their customer ID or name. \"\n",
    "            \"This tool is useful for fetching all customer-related financial information at once.\"\n",
    "        )\n",
    "    ),\n",
    "    Tool(\n",
    "        name=\"Determine Loan Risk\",\n",
    "        func=determine_loan_risk,\n",
    "        description=\"Determine loan risk from a single string like 'credit_score=720, account_status=good'.\"\n",
    "    )\n",
    "]"
   ]
  },
  {
   "cell_type": "markdown",
   "id": "9",
   "metadata": {},
   "source": [
    "### Initialize the agent\n"
   ]
  },
  {
   "cell_type": "code",
   "execution_count": null,
   "id": "10",
   "metadata": {},
   "outputs": [],
   "source": [
    "# Initialize the language model from Ollama using the \"mistral\" model\n",
    "# This model will be used by the agent to interpret and reason about user queries\n",
    "\n",
    "llm = Ollama(model=\"mistral\")  # Using Ollama model for agent reasoning\n",
    "# llm = Ollama(model=\"tinyllama\")  # Using TinyLlama model for agent reasoning\n",
    "\n",
    "# Set up an intelligent agent that can use defined tools to answer complex user questions\n",
    "agent = initialize_agent(\n",
    "    tools=tools,  # List of all tools (functions) the agent can use, such as getting credit score or interest rate\n",
    "    llm=llm,  # The language model that powers the agent's reasoning and decision-making\n",
    "    agent_type=AgentType.ZERO_SHOT_REACT_DESCRIPTION,  # Specifies how the agent selects and applies tools; this type uses reasoning and descriptions without prior examples\n",
    "    verbose=True,  # Enables logging of the agent's reasoning steps for better visibility and debugging\n",
    "    handle_parsing_errors=True  # Allows the agent to handle and recover from formatting or parsing errors during execution\n",
    ")\n",
    "\n",
    "\n",
    "### More info\n",
    "# ZERO_SHOT_REACT_DESCRIPTION is a type of agent in LangChain that uses a \"ReAct\" (Reasoning and Acting) approach to solve problems without needing any prior examples. Here's what that means:\n",
    "# \"Zero-shot\": The agent doesn't rely on training examples or fine-tuning. It only has access to descriptions of the tools and the user query.\n",
    "# \"ReAct\": The agent uses Reasoning + Actions in a loop:\n",
    "# Thinks about what to do.\n",
    "# Picks a tool.\n",
    "# Uses the tool (an \"action\").\n",
    "# Gets a result (an \"observation\").\n",
    "# Thinks again... and repeats until it gives a final answer.\n",
    "# This approach is great for tasks like:\n",
    "# Multi-step reasoning.\n",
    "# Tool usage.\n",
    "# Open-ended questions with real-time information access"
   ]
  },
  {
   "cell_type": "markdown",
   "id": "11",
   "metadata": {},
   "source": [
    "### Use the AI agent - ask the AI agent risk related question "
   ]
  },
  {
   "cell_type": "code",
   "execution_count": null,
   "id": "12",
   "metadata": {},
   "outputs": [],
   "source": [
    "# Possible Prompts\n",
    "# \"what can you do for me?\",\n",
    "# \"what is the risk for Pratik?\",\n",
    "# \"tell me about John?\",\n",
    "# \"what is the risk for John? why?\",\n",
    "\n",
    "prompt = f\"what is the loan risk for Pratik?\"\n",
    "response = agent.run(prompt)\n",
    "print(response)"
   ]
  },
  {
   "cell_type": "markdown",
   "id": "13",
   "metadata": {},
   "source": [
    "### Try asking the agent a interest related ques for which it does not have a tool"
   ]
  },
  {
   "cell_type": "code",
   "execution_count": null,
   "id": "14",
   "metadata": {},
   "outputs": [],
   "source": [
    "\n",
    "prompt = f\"what is the interest rate for Pratik?\"\n",
    "response = agent.run(prompt)\n",
    "print(response)"
   ]
  },
  {
   "cell_type": "markdown",
   "id": "15",
   "metadata": {},
   "source": [
    "## Part - 2"
   ]
  },
  {
   "cell_type": "markdown",
   "id": "16",
   "metadata": {},
   "source": [
    "### Add a new tool to calculate interest rate"
   ]
  },
  {
   "cell_type": "code",
   "execution_count": null,
   "id": "17",
   "metadata": {},
   "outputs": [],
   "source": [
    "# Define Tool 6 - Get Interest Rate using overall risk\n",
    "@tool\n",
    "def get_interest_rate(overall_risk: str):\n",
    "    \"\"\"\n",
    "    Calculate the interest rate percentage based on the customer's loan risk level.\n",
    "\n",
    "    Input:\n",
    "    - overall_risk (str): The risk category of the customer. \n",
    "      Expected values: \"high\", \"medium\", or \"low\" (case insensitive).\n",
    "\n",
    "    Output:\n",
    "    - A numeric interest rate based on the input risk:\n",
    "        * \"high\"    ->  12.5%\n",
    "        * \"medium\"  ->  8%\n",
    "        * \"low\"     ->  5%\n",
    "\n",
    "    If the input is not one of the expected values, return \"unable to determine\".\n",
    "    \"\"\"\n",
    "    if (overall_risk.lower() == \"high\"):\n",
    "        interest_rate =  12.5\n",
    "    elif (overall_risk.lower() == \"medium\"):\n",
    "        interest_rate = 8\n",
    "    elif (overall_risk.lower() == \"low\"):\n",
    "        interest_rate = 5\n",
    "    else:\n",
    "        interest_rate = 'unable to determine.'    \n",
    "    return interest_rate\n",
    "\n",
    "# Register the tool\n",
    "tools.append(\n",
    "    Tool(\n",
    "        name=\"Get Interest Rate\",\n",
    "        func=get_interest_rate,\n",
    "        description=(\n",
    "            \"Calculate the interest rate percentage based on the customer's loan risk. \"\n",
    "            \"Expected input format: one of the following strings - 'high', 'medium', or 'low'. \"\n",
    "            \"Returns the corresponding interest rate as a number.\"\n",
    "        )\n",
    "    )\n",
    ")\n"
   ]
  },
  {
   "cell_type": "markdown",
   "id": "18",
   "metadata": {},
   "source": [
    "### Re-initialize agent"
   ]
  },
  {
   "cell_type": "code",
   "execution_count": null,
   "id": "19",
   "metadata": {},
   "outputs": [],
   "source": [
    "# Now, initialize the agent again with the updated tools\n",
    "agent = initialize_agent(\n",
    "    tools=tools,\n",
    "    llm=llm,\n",
    "    agent_type=AgentType.ZERO_SHOT_REACT_DESCRIPTION,\n",
    "    verbose=True,\n",
    "    handle_parsing_errors=True\n",
    ")"
   ]
  },
  {
   "cell_type": "markdown",
   "id": "20",
   "metadata": {},
   "source": [
    "### Now ask the agent interest rate related question"
   ]
  },
  {
   "cell_type": "code",
   "execution_count": null,
   "id": "21",
   "metadata": {},
   "outputs": [],
   "source": [
    "## Possible Prompts\n",
    "# what is the interest rate for matt? \n",
    "# what is the interest rate for matt? explain how it was determined?\n",
    "# Note that how the AI agent can now use the get_interest_rate to provide interest rate also.\n",
    "\n",
    "prompt = f\"what is the interest rate for Pratik?\"\n",
    "response = agent.run(prompt)\n",
    "print(response)"
   ]
  }
 ],
 "metadata": {
  "kernelspec": {
   "display_name": "agentic-env",
   "language": "python",
   "name": "python3"
  },
  "language_info": {
   "codemirror_mode": {
    "name": "ipython",
    "version": 3
   },
   "file_extension": ".py",
   "mimetype": "text/x-python",
   "name": "python",
   "nbconvert_exporter": "python",
   "pygments_lexer": "ipython3",
   "version": "3.9.6"
  }
 },
 "nbformat": 4,
 "nbformat_minor": 5
}
